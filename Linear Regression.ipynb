import pandas as pd
data = pd.read_csv("rahul.csv")
john
